{
 "cells": [
  {
   "cell_type": "code",
   "execution_count": 2,
   "metadata": {},
   "outputs": [],
   "source": [
    "import numpy as np\n",
    "import glob\n",
    "import matplotlib.pyplot as plt\n",
    "import os"
   ]
  },
  {
   "cell_type": "code",
   "execution_count": 12,
   "metadata": {},
   "outputs": [
    {
     "data": {
      "text/plain": [
       "9"
      ]
     },
     "execution_count": 12,
     "metadata": {},
     "output_type": "execute_result"
    }
   ],
   "source": [
    "# basename = './datasets/beach/change_timeseries_tint24_nepochs123'\n",
    "basename = '../../data/snowCover/change_timeseries_tint1_nepochs129_subsampled1/r25_extract_positive'\n",
    "# ilist = sorted([int(os.path.basename(os.path.dirname(d)).split('_')[1])\n",
    "#                 for d in glob.glob(basename+\"/*\")])\n",
    "ilist = sorted(os.listdir(basename))\n",
    "len(ilist)"
   ]
  },
  {
   "cell_type": "code",
   "execution_count": 13,
   "metadata": {},
   "outputs": [],
   "source": [
    "if not os.path.exists(basename + '/animation/'):\n",
    "    os.mkdir(basename + '/animation/')"
   ]
  },
  {
   "cell_type": "code",
   "execution_count": 14,
   "metadata": {},
   "outputs": [],
   "source": [
    "k = 140"
   ]
  },
  {
   "cell_type": "code",
   "execution_count": 15,
   "metadata": {},
   "outputs": [
    {
     "ename": "ValueError",
     "evalue": "attempt to get argmax of an empty sequence",
     "output_type": "error",
     "traceback": [
      "\u001b[0;31m---------------------------------------------------------------------------\u001b[0m",
      "\u001b[0;31mValueError\u001b[0m                                Traceback (most recent call last)",
      "\u001b[0;32m<ipython-input-15-7eabc459143f>\u001b[0m in \u001b[0;36m<module>\u001b[0;34m\u001b[0m\n\u001b[1;32m      2\u001b[0m     \u001b[0mtxts\u001b[0m \u001b[0;34m=\u001b[0m \u001b[0mglob\u001b[0m\u001b[0;34m.\u001b[0m\u001b[0mglob\u001b[0m\u001b[0;34m(\u001b[0m\u001b[0mbasename\u001b[0m \u001b[0;34m+\u001b[0m \u001b[0;34m\"/change_\"\u001b[0m \u001b[0;34m+\u001b[0m \u001b[0mstr\u001b[0m\u001b[0;34m(\u001b[0m\u001b[0mi\u001b[0m\u001b[0;34m)\u001b[0m \u001b[0;34m+\u001b[0m \u001b[0;34mf\"/{'[0-9]'*4}.txt\"\u001b[0m\u001b[0;34m)\u001b[0m\u001b[0;34m\u001b[0m\u001b[0;34m\u001b[0m\u001b[0m\n\u001b[1;32m      3\u001b[0m     \u001b[0mitrs\u001b[0m \u001b[0;34m=\u001b[0m \u001b[0;34m[\u001b[0m\u001b[0mint\u001b[0m\u001b[0;34m(\u001b[0m\u001b[0mtxt\u001b[0m\u001b[0;34m.\u001b[0m\u001b[0msplit\u001b[0m\u001b[0;34m(\u001b[0m\u001b[0;34m'/'\u001b[0m\u001b[0;34m)\u001b[0m\u001b[0;34m[\u001b[0m\u001b[0;34m-\u001b[0m\u001b[0;36m1\u001b[0m\u001b[0;34m]\u001b[0m\u001b[0;34m[\u001b[0m\u001b[0;34m:\u001b[0m\u001b[0;36m4\u001b[0m\u001b[0;34m]\u001b[0m\u001b[0;34m)\u001b[0m \u001b[0;32mfor\u001b[0m \u001b[0mtxt\u001b[0m \u001b[0;32min\u001b[0m \u001b[0mtxts\u001b[0m\u001b[0;34m]\u001b[0m\u001b[0;34m\u001b[0m\u001b[0;34m\u001b[0m\u001b[0m\n\u001b[0;32m----> 4\u001b[0;31m     \u001b[0mtxt\u001b[0m \u001b[0;34m=\u001b[0m \u001b[0mtxts\u001b[0m\u001b[0;34m[\u001b[0m\u001b[0mnp\u001b[0m\u001b[0;34m.\u001b[0m\u001b[0margmax\u001b[0m\u001b[0;34m(\u001b[0m\u001b[0mitrs\u001b[0m\u001b[0;34m)\u001b[0m\u001b[0;34m]\u001b[0m\u001b[0;34m\u001b[0m\u001b[0;34m\u001b[0m\u001b[0m\n\u001b[0m\u001b[1;32m      5\u001b[0m     \u001b[0mprint\u001b[0m\u001b[0;34m(\u001b[0m\u001b[0mtxt\u001b[0m\u001b[0;34m)\u001b[0m\u001b[0;34m\u001b[0m\u001b[0;34m\u001b[0m\u001b[0m\n\u001b[1;32m      6\u001b[0m     \u001b[0mdata\u001b[0m \u001b[0;34m=\u001b[0m \u001b[0mnp\u001b[0m\u001b[0;34m.\u001b[0m\u001b[0mloadtxt\u001b[0m\u001b[0;34m(\u001b[0m\u001b[0mtxt\u001b[0m\u001b[0;34m)\u001b[0m\u001b[0;34m\u001b[0m\u001b[0;34m\u001b[0m\u001b[0m\n",
      "\u001b[0;32m<__array_function__ internals>\u001b[0m in \u001b[0;36margmax\u001b[0;34m(*args, **kwargs)\u001b[0m\n",
      "\u001b[0;32m~/anaconda3/lib/python3.8/site-packages/numpy/core/fromnumeric.py\u001b[0m in \u001b[0;36margmax\u001b[0;34m(a, axis, out)\u001b[0m\n\u001b[1;32m   1186\u001b[0m \u001b[0;34m\u001b[0m\u001b[0m\n\u001b[1;32m   1187\u001b[0m     \"\"\"\n\u001b[0;32m-> 1188\u001b[0;31m     \u001b[0;32mreturn\u001b[0m \u001b[0m_wrapfunc\u001b[0m\u001b[0;34m(\u001b[0m\u001b[0ma\u001b[0m\u001b[0;34m,\u001b[0m \u001b[0;34m'argmax'\u001b[0m\u001b[0;34m,\u001b[0m \u001b[0maxis\u001b[0m\u001b[0;34m=\u001b[0m\u001b[0maxis\u001b[0m\u001b[0;34m,\u001b[0m \u001b[0mout\u001b[0m\u001b[0;34m=\u001b[0m\u001b[0mout\u001b[0m\u001b[0;34m)\u001b[0m\u001b[0;34m\u001b[0m\u001b[0;34m\u001b[0m\u001b[0m\n\u001b[0m\u001b[1;32m   1189\u001b[0m \u001b[0;34m\u001b[0m\u001b[0m\n\u001b[1;32m   1190\u001b[0m \u001b[0;34m\u001b[0m\u001b[0m\n",
      "\u001b[0;32m~/anaconda3/lib/python3.8/site-packages/numpy/core/fromnumeric.py\u001b[0m in \u001b[0;36m_wrapfunc\u001b[0;34m(obj, method, *args, **kwds)\u001b[0m\n\u001b[1;32m     53\u001b[0m     \u001b[0mbound\u001b[0m \u001b[0;34m=\u001b[0m \u001b[0mgetattr\u001b[0m\u001b[0;34m(\u001b[0m\u001b[0mobj\u001b[0m\u001b[0;34m,\u001b[0m \u001b[0mmethod\u001b[0m\u001b[0;34m,\u001b[0m \u001b[0;32mNone\u001b[0m\u001b[0;34m)\u001b[0m\u001b[0;34m\u001b[0m\u001b[0;34m\u001b[0m\u001b[0m\n\u001b[1;32m     54\u001b[0m     \u001b[0;32mif\u001b[0m \u001b[0mbound\u001b[0m \u001b[0;32mis\u001b[0m \u001b[0;32mNone\u001b[0m\u001b[0;34m:\u001b[0m\u001b[0;34m\u001b[0m\u001b[0;34m\u001b[0m\u001b[0m\n\u001b[0;32m---> 55\u001b[0;31m         \u001b[0;32mreturn\u001b[0m \u001b[0m_wrapit\u001b[0m\u001b[0;34m(\u001b[0m\u001b[0mobj\u001b[0m\u001b[0;34m,\u001b[0m \u001b[0mmethod\u001b[0m\u001b[0;34m,\u001b[0m \u001b[0;34m*\u001b[0m\u001b[0margs\u001b[0m\u001b[0;34m,\u001b[0m \u001b[0;34m**\u001b[0m\u001b[0mkwds\u001b[0m\u001b[0;34m)\u001b[0m\u001b[0;34m\u001b[0m\u001b[0;34m\u001b[0m\u001b[0m\n\u001b[0m\u001b[1;32m     56\u001b[0m \u001b[0;34m\u001b[0m\u001b[0m\n\u001b[1;32m     57\u001b[0m     \u001b[0;32mtry\u001b[0m\u001b[0;34m:\u001b[0m\u001b[0;34m\u001b[0m\u001b[0;34m\u001b[0m\u001b[0m\n",
      "\u001b[0;32m~/anaconda3/lib/python3.8/site-packages/numpy/core/fromnumeric.py\u001b[0m in \u001b[0;36m_wrapit\u001b[0;34m(obj, method, *args, **kwds)\u001b[0m\n\u001b[1;32m     42\u001b[0m     \u001b[0;32mexcept\u001b[0m \u001b[0mAttributeError\u001b[0m\u001b[0;34m:\u001b[0m\u001b[0;34m\u001b[0m\u001b[0;34m\u001b[0m\u001b[0m\n\u001b[1;32m     43\u001b[0m         \u001b[0mwrap\u001b[0m \u001b[0;34m=\u001b[0m \u001b[0;32mNone\u001b[0m\u001b[0;34m\u001b[0m\u001b[0;34m\u001b[0m\u001b[0m\n\u001b[0;32m---> 44\u001b[0;31m     \u001b[0mresult\u001b[0m \u001b[0;34m=\u001b[0m \u001b[0mgetattr\u001b[0m\u001b[0;34m(\u001b[0m\u001b[0masarray\u001b[0m\u001b[0;34m(\u001b[0m\u001b[0mobj\u001b[0m\u001b[0;34m)\u001b[0m\u001b[0;34m,\u001b[0m \u001b[0mmethod\u001b[0m\u001b[0;34m)\u001b[0m\u001b[0;34m(\u001b[0m\u001b[0;34m*\u001b[0m\u001b[0margs\u001b[0m\u001b[0;34m,\u001b[0m \u001b[0;34m**\u001b[0m\u001b[0mkwds\u001b[0m\u001b[0;34m)\u001b[0m\u001b[0;34m\u001b[0m\u001b[0;34m\u001b[0m\u001b[0m\n\u001b[0m\u001b[1;32m     45\u001b[0m     \u001b[0;32mif\u001b[0m \u001b[0mwrap\u001b[0m\u001b[0;34m:\u001b[0m\u001b[0;34m\u001b[0m\u001b[0;34m\u001b[0m\u001b[0m\n\u001b[1;32m     46\u001b[0m         \u001b[0;32mif\u001b[0m \u001b[0;32mnot\u001b[0m \u001b[0misinstance\u001b[0m\u001b[0;34m(\u001b[0m\u001b[0mresult\u001b[0m\u001b[0;34m,\u001b[0m \u001b[0mmu\u001b[0m\u001b[0;34m.\u001b[0m\u001b[0mndarray\u001b[0m\u001b[0;34m)\u001b[0m\u001b[0;34m:\u001b[0m\u001b[0;34m\u001b[0m\u001b[0;34m\u001b[0m\u001b[0m\n",
      "\u001b[0;31mValueError\u001b[0m: attempt to get argmax of an empty sequence"
     ]
    }
   ],
   "source": [
    "for i in ilist[:k]:\n",
    "    txts = glob.glob(basename + \"/change_\" + str(i) + f\"/{'[0-9]'*4}.txt\")\n",
    "    itrs = [int(txt.split('/')[-1][:4]) for txt in txts]\n",
    "    txt = txts[np.argmax(itrs)]\n",
    "    print(txt)\n",
    "    data = np.loadtxt(txt)\n",
    "    \n",
    "    plt.figure(figsize=(9, 9))\n",
    "    plt.title(i)\n",
    "    plt.scatter(data[:, 0], data[:, 1], c=data[:, -2], cmap='coolwarm', s=1, rasterized=True)\n",
    "    plt.axis('equal')\n",
    "    plt.xlim([-500, 100])\n",
    "    plt.ylim([-300, 350])\n",
    "    plt.savefig(basename + f'/animation/{i:03d}.png', dpi=196)\n",
    "    plt.close()"
   ]
  },
  {
   "cell_type": "code",
   "execution_count": 6,
   "metadata": {},
   "outputs": [
    {
     "name": "stdout",
     "output_type": "stream",
     "text": [
      "./datasets/snowcover/change_timeseries_tint1_nepochs129_subsampled1//change_0/0150_extract.txt\n",
      "./datasets/snowcover/change_timeseries_tint1_nepochs129_subsampled1//change_1/0150_extract.txt\n",
      "./datasets/snowcover/change_timeseries_tint1_nepochs129_subsampled1//change_2/0150_extract.txt\n",
      "./datasets/snowcover/change_timeseries_tint1_nepochs129_subsampled1//change_3/0150_extract.txt\n",
      "./datasets/snowcover/change_timeseries_tint1_nepochs129_subsampled1//change_4/0150_extract.txt\n",
      "./datasets/snowcover/change_timeseries_tint1_nepochs129_subsampled1//change_5/0150_extract.txt\n",
      "./datasets/snowcover/change_timeseries_tint1_nepochs129_subsampled1//change_6/0150_extract.txt\n",
      "./datasets/snowcover/change_timeseries_tint1_nepochs129_subsampled1//change_7/0150_extract.txt\n",
      "./datasets/snowcover/change_timeseries_tint1_nepochs129_subsampled1//change_8/0150_extract.txt\n",
      "./datasets/snowcover/change_timeseries_tint1_nepochs129_subsampled1//change_9/0150_extract.txt\n",
      "./datasets/snowcover/change_timeseries_tint1_nepochs129_subsampled1//change_10/0150_extract.txt\n",
      "./datasets/snowcover/change_timeseries_tint1_nepochs129_subsampled1//change_11/0150_extract.txt\n",
      "./datasets/snowcover/change_timeseries_tint1_nepochs129_subsampled1//change_12/0150_extract.txt\n",
      "./datasets/snowcover/change_timeseries_tint1_nepochs129_subsampled1//change_13/0150_extract.txt\n",
      "./datasets/snowcover/change_timeseries_tint1_nepochs129_subsampled1//change_14/0150_extract.txt\n",
      "./datasets/snowcover/change_timeseries_tint1_nepochs129_subsampled1//change_15/0150_extract.txt\n",
      "./datasets/snowcover/change_timeseries_tint1_nepochs129_subsampled1//change_16/0150_extract.txt\n",
      "./datasets/snowcover/change_timeseries_tint1_nepochs129_subsampled1//change_17/0150_extract.txt\n",
      "./datasets/snowcover/change_timeseries_tint1_nepochs129_subsampled1//change_18/0150_extract.txt\n",
      "./datasets/snowcover/change_timeseries_tint1_nepochs129_subsampled1//change_19/0150_extract.txt\n",
      "./datasets/snowcover/change_timeseries_tint1_nepochs129_subsampled1//change_20/0150_extract.txt\n",
      "./datasets/snowcover/change_timeseries_tint1_nepochs129_subsampled1//change_21/0150_extract.txt\n",
      "./datasets/snowcover/change_timeseries_tint1_nepochs129_subsampled1//change_22/0150_extract.txt\n",
      "./datasets/snowcover/change_timeseries_tint1_nepochs129_subsampled1//change_23/0150_extract.txt\n",
      "./datasets/snowcover/change_timeseries_tint1_nepochs129_subsampled1//change_24/0150_extract.txt\n",
      "./datasets/snowcover/change_timeseries_tint1_nepochs129_subsampled1//change_25/0200_extract.txt\n",
      "./datasets/snowcover/change_timeseries_tint1_nepochs129_subsampled1//change_26/0150_extract.txt\n",
      "./datasets/snowcover/change_timeseries_tint1_nepochs129_subsampled1//change_27/0150_extract.txt\n",
      "./datasets/snowcover/change_timeseries_tint1_nepochs129_subsampled1//change_28/0150_extract.txt\n",
      "./datasets/snowcover/change_timeseries_tint1_nepochs129_subsampled1//change_29/0150_extract.txt\n",
      "./datasets/snowcover/change_timeseries_tint1_nepochs129_subsampled1//change_30/0150_extract.txt\n",
      "./datasets/snowcover/change_timeseries_tint1_nepochs129_subsampled1//change_31/0150_extract.txt\n",
      "./datasets/snowcover/change_timeseries_tint1_nepochs129_subsampled1//change_32/0150_extract.txt\n",
      "./datasets/snowcover/change_timeseries_tint1_nepochs129_subsampled1//change_33/0150_extract.txt\n",
      "./datasets/snowcover/change_timeseries_tint1_nepochs129_subsampled1//change_34/0150_extract.txt\n",
      "./datasets/snowcover/change_timeseries_tint1_nepochs129_subsampled1//change_35/0150_extract.txt\n",
      "./datasets/snowcover/change_timeseries_tint1_nepochs129_subsampled1//change_36/0150_extract.txt\n",
      "./datasets/snowcover/change_timeseries_tint1_nepochs129_subsampled1//change_37/0150_extract.txt\n",
      "./datasets/snowcover/change_timeseries_tint1_nepochs129_subsampled1//change_38/0150_extract.txt\n",
      "./datasets/snowcover/change_timeseries_tint1_nepochs129_subsampled1//change_39/0150_extract.txt\n",
      "./datasets/snowcover/change_timeseries_tint1_nepochs129_subsampled1//change_40/0150_extract.txt\n",
      "./datasets/snowcover/change_timeseries_tint1_nepochs129_subsampled1//change_41/0150_extract.txt\n",
      "./datasets/snowcover/change_timeseries_tint1_nepochs129_subsampled1//change_42/0150_extract.txt\n",
      "./datasets/snowcover/change_timeseries_tint1_nepochs129_subsampled1//change_43/0150_extract.txt\n",
      "./datasets/snowcover/change_timeseries_tint1_nepochs129_subsampled1//change_44/0150_extract.txt\n",
      "./datasets/snowcover/change_timeseries_tint1_nepochs129_subsampled1//change_45/0150_extract.txt\n",
      "./datasets/snowcover/change_timeseries_tint1_nepochs129_subsampled1//change_46/0150_extract.txt\n",
      "./datasets/snowcover/change_timeseries_tint1_nepochs129_subsampled1//change_47/0150_extract.txt\n",
      "./datasets/snowcover/change_timeseries_tint1_nepochs129_subsampled1//change_48/0150_extract.txt\n",
      "./datasets/snowcover/change_timeseries_tint1_nepochs129_subsampled1//change_49/0150_extract.txt\n",
      "./datasets/snowcover/change_timeseries_tint1_nepochs129_subsampled1//change_50/0150_extract.txt\n",
      "./datasets/snowcover/change_timeseries_tint1_nepochs129_subsampled1//change_51/0150_extract.txt\n",
      "./datasets/snowcover/change_timeseries_tint1_nepochs129_subsampled1//change_52/0150_extract.txt\n",
      "./datasets/snowcover/change_timeseries_tint1_nepochs129_subsampled1//change_53/0150_extract.txt\n",
      "./datasets/snowcover/change_timeseries_tint1_nepochs129_subsampled1//change_54/0150_extract.txt\n",
      "./datasets/snowcover/change_timeseries_tint1_nepochs129_subsampled1//change_55/0150_extract.txt\n",
      "./datasets/snowcover/change_timeseries_tint1_nepochs129_subsampled1//change_56/0150_extract.txt\n",
      "./datasets/snowcover/change_timeseries_tint1_nepochs129_subsampled1//change_57/0150_extract.txt\n",
      "./datasets/snowcover/change_timeseries_tint1_nepochs129_subsampled1//change_58/0150_extract.txt\n",
      "./datasets/snowcover/change_timeseries_tint1_nepochs129_subsampled1//change_59/0150_extract.txt\n",
      "./datasets/snowcover/change_timeseries_tint1_nepochs129_subsampled1//change_60/0150_extract.txt\n",
      "./datasets/snowcover/change_timeseries_tint1_nepochs129_subsampled1//change_61/0150_extract.txt\n",
      "./datasets/snowcover/change_timeseries_tint1_nepochs129_subsampled1//change_62/0150_extract.txt\n",
      "./datasets/snowcover/change_timeseries_tint1_nepochs129_subsampled1//change_63/0150_extract.txt\n",
      "./datasets/snowcover/change_timeseries_tint1_nepochs129_subsampled1//change_64/0150_extract.txt\n",
      "./datasets/snowcover/change_timeseries_tint1_nepochs129_subsampled1//change_65/0150_extract.txt\n",
      "./datasets/snowcover/change_timeseries_tint1_nepochs129_subsampled1//change_66/0150_extract.txt\n",
      "./datasets/snowcover/change_timeseries_tint1_nepochs129_subsampled1//change_67/0150_extract.txt\n",
      "./datasets/snowcover/change_timeseries_tint1_nepochs129_subsampled1//change_68/0150_extract.txt\n",
      "./datasets/snowcover/change_timeseries_tint1_nepochs129_subsampled1//change_69/0150_extract.txt\n",
      "./datasets/snowcover/change_timeseries_tint1_nepochs129_subsampled1//change_70/0150_extract.txt\n",
      "./datasets/snowcover/change_timeseries_tint1_nepochs129_subsampled1//change_71/0150_extract.txt\n",
      "./datasets/snowcover/change_timeseries_tint1_nepochs129_subsampled1//change_72/0150_extract.txt\n",
      "./datasets/snowcover/change_timeseries_tint1_nepochs129_subsampled1//change_73/0150_extract.txt\n",
      "./datasets/snowcover/change_timeseries_tint1_nepochs129_subsampled1//change_74/0150_extract.txt\n",
      "./datasets/snowcover/change_timeseries_tint1_nepochs129_subsampled1//change_75/0150_extract.txt\n",
      "./datasets/snowcover/change_timeseries_tint1_nepochs129_subsampled1//change_76/0150_extract.txt\n",
      "./datasets/snowcover/change_timeseries_tint1_nepochs129_subsampled1//change_77/0150_extract.txt\n",
      "./datasets/snowcover/change_timeseries_tint1_nepochs129_subsampled1//change_78/0150_extract.txt\n",
      "./datasets/snowcover/change_timeseries_tint1_nepochs129_subsampled1//change_79/0150_extract.txt\n",
      "./datasets/snowcover/change_timeseries_tint1_nepochs129_subsampled1//change_80/0150_extract.txt\n"
     ]
    },
    {
     "name": "stderr",
     "output_type": "stream",
     "text": [
      "<__array_function__ internals>:180: UserWarning: Warning: converting a masked element to nan.\n",
      "/usr/local/lib/python3.8/dist-packages/matplotlib/colors.py:1019: UserWarning: Warning: converting a masked element to nan.\n",
      "  data = np.asarray(value)\n"
     ]
    },
    {
     "name": "stdout",
     "output_type": "stream",
     "text": [
      "./datasets/snowcover/change_timeseries_tint1_nepochs129_subsampled1//change_81/0150_extract.txt\n",
      "./datasets/snowcover/change_timeseries_tint1_nepochs129_subsampled1//change_82/0150_extract.txt\n",
      "./datasets/snowcover/change_timeseries_tint1_nepochs129_subsampled1//change_83/0150_extract.txt\n",
      "./datasets/snowcover/change_timeseries_tint1_nepochs129_subsampled1//change_84/0150_extract.txt\n",
      "./datasets/snowcover/change_timeseries_tint1_nepochs129_subsampled1//change_85/0150_extract.txt\n",
      "./datasets/snowcover/change_timeseries_tint1_nepochs129_subsampled1//change_86/0150_extract.txt\n",
      "./datasets/snowcover/change_timeseries_tint1_nepochs129_subsampled1//change_87/0150_extract.txt\n",
      "./datasets/snowcover/change_timeseries_tint1_nepochs129_subsampled1//change_88/0150_extract.txt\n",
      "./datasets/snowcover/change_timeseries_tint1_nepochs129_subsampled1//change_89/0150_extract.txt\n",
      "./datasets/snowcover/change_timeseries_tint1_nepochs129_subsampled1//change_90/0150_extract.txt\n",
      "./datasets/snowcover/change_timeseries_tint1_nepochs129_subsampled1//change_91/0150_extract.txt\n",
      "./datasets/snowcover/change_timeseries_tint1_nepochs129_subsampled1//change_92/0150_extract.txt\n",
      "./datasets/snowcover/change_timeseries_tint1_nepochs129_subsampled1//change_93/0150_extract.txt\n",
      "./datasets/snowcover/change_timeseries_tint1_nepochs129_subsampled1//change_94/0150_extract.txt\n",
      "./datasets/snowcover/change_timeseries_tint1_nepochs129_subsampled1//change_95/0150_extract.txt\n",
      "./datasets/snowcover/change_timeseries_tint1_nepochs129_subsampled1//change_96/0150_extract.txt\n",
      "./datasets/snowcover/change_timeseries_tint1_nepochs129_subsampled1//change_97/0150_extract.txt\n",
      "./datasets/snowcover/change_timeseries_tint1_nepochs129_subsampled1//change_98/0150_extract.txt\n",
      "./datasets/snowcover/change_timeseries_tint1_nepochs129_subsampled1//change_99/0150_extract.txt\n",
      "./datasets/snowcover/change_timeseries_tint1_nepochs129_subsampled1//change_100/0150_extract.txt\n",
      "./datasets/snowcover/change_timeseries_tint1_nepochs129_subsampled1//change_101/0150_extract.txt\n",
      "./datasets/snowcover/change_timeseries_tint1_nepochs129_subsampled1//change_102/0150_extract.txt\n",
      "./datasets/snowcover/change_timeseries_tint1_nepochs129_subsampled1//change_103/0150_extract.txt\n",
      "./datasets/snowcover/change_timeseries_tint1_nepochs129_subsampled1//change_104/0150_extract.txt\n",
      "./datasets/snowcover/change_timeseries_tint1_nepochs129_subsampled1//change_105/0150_extract.txt\n",
      "./datasets/snowcover/change_timeseries_tint1_nepochs129_subsampled1//change_106/0150_extract.txt\n",
      "./datasets/snowcover/change_timeseries_tint1_nepochs129_subsampled1//change_107/0150_extract.txt\n",
      "./datasets/snowcover/change_timeseries_tint1_nepochs129_subsampled1//change_108/0150_extract.txt\n",
      "./datasets/snowcover/change_timeseries_tint1_nepochs129_subsampled1//change_109/0150_extract.txt\n",
      "./datasets/snowcover/change_timeseries_tint1_nepochs129_subsampled1//change_110/0150_extract.txt\n",
      "./datasets/snowcover/change_timeseries_tint1_nepochs129_subsampled1//change_111/0150_extract.txt\n",
      "./datasets/snowcover/change_timeseries_tint1_nepochs129_subsampled1//change_112/0150_extract.txt\n",
      "./datasets/snowcover/change_timeseries_tint1_nepochs129_subsampled1//change_113/0150_extract.txt\n",
      "./datasets/snowcover/change_timeseries_tint1_nepochs129_subsampled1//change_114/0150_extract.txt\n",
      "./datasets/snowcover/change_timeseries_tint1_nepochs129_subsampled1//change_115/0150_extract.txt\n",
      "./datasets/snowcover/change_timeseries_tint1_nepochs129_subsampled1//change_116/0150_extract.txt\n",
      "./datasets/snowcover/change_timeseries_tint1_nepochs129_subsampled1//change_117/0150_extract.txt\n",
      "./datasets/snowcover/change_timeseries_tint1_nepochs129_subsampled1//change_118/0150_extract.txt\n",
      "./datasets/snowcover/change_timeseries_tint1_nepochs129_subsampled1//change_119/0150_extract.txt\n",
      "./datasets/snowcover/change_timeseries_tint1_nepochs129_subsampled1//change_120/0150_extract.txt\n",
      "./datasets/snowcover/change_timeseries_tint1_nepochs129_subsampled1//change_121/0150_extract.txt\n",
      "./datasets/snowcover/change_timeseries_tint1_nepochs129_subsampled1//change_122/0150_extract.txt\n",
      "./datasets/snowcover/change_timeseries_tint1_nepochs129_subsampled1//change_123/0150_extract.txt\n",
      "./datasets/snowcover/change_timeseries_tint1_nepochs129_subsampled1//change_124/0150_extract.txt\n",
      "./datasets/snowcover/change_timeseries_tint1_nepochs129_subsampled1//change_125/0150_extract.txt\n",
      "./datasets/snowcover/change_timeseries_tint1_nepochs129_subsampled1//change_126/0150_extract.txt\n",
      "./datasets/snowcover/change_timeseries_tint1_nepochs129_subsampled1//change_127/0150_extract.txt\n",
      "./datasets/snowcover/change_timeseries_tint1_nepochs129_subsampled1//change_128/0150_extract.txt\n"
     ]
    }
   ],
   "source": [
    "for i in ilist[:k]:\n",
    "    txts = glob.glob(basename + \"/change_\" + str(i) + f\"/{'[0-9]'*4}_extract.txt\")\n",
    "    itrs = [int(txt.split('_')[-2][-4:]) for txt in txts]\n",
    "    txt = txts[np.argmax(itrs)]\n",
    "    data = np.loadtxt(txt)\n",
    "    print(txt)\n",
    "    plt.figure(figsize=(9, 9))\n",
    "    plt.title(i)\n",
    "    plt.scatter(data[:, 0], data[:, 1], c=data[:, -1], cmap='gist_heat', s=1, rasterized=True)\n",
    "    plt.axis('equal')\n",
    "    plt.xlim([-500, 100])\n",
    "    plt.ylim([-300, 350])\n",
    "    plt.savefig(basename + f'/animation/{i:03d}c.png', dpi=196)\n",
    "    plt.close()"
   ]
  },
  {
   "cell_type": "code",
   "execution_count": null,
   "metadata": {},
   "outputs": [],
   "source": []
  }
 ],
 "metadata": {
  "kernelspec": {
   "display_name": "Python 3",
   "language": "python",
   "name": "python3"
  },
  "language_info": {
   "codemirror_mode": {
    "name": "ipython",
    "version": 3
   },
   "file_extension": ".py",
   "mimetype": "text/x-python",
   "name": "python",
   "nbconvert_exporter": "python",
   "pygments_lexer": "ipython3",
   "version": "3.8.5"
  }
 },
 "nbformat": 4,
 "nbformat_minor": 4
}
